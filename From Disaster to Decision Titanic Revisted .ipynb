{
 "cells": [
  {
   "cell_type": "code",
   "execution_count": 1,
   "metadata": {},
   "outputs": [],
   "source": [
    "import warnings\n",
    "warnings.filterwarnings(\"ignore\")"
   ]
  },
  {
   "cell_type": "code",
   "execution_count": 2,
   "metadata": {},
   "outputs": [],
   "source": [
    "import os\n",
    "import pandas as pd\n",
    "import numpy as np\n",
    "import matplotlib.pyplot as plt\n",
    "import seaborn as sns\n",
    "from sklearn.model_selection import train_test_split\n",
    "from sklearn.metrics import classification_report\n",
    "from pylab import *\n",
    "import shutil"
   ]
  },
  {
   "cell_type": "code",
   "execution_count": 3,
   "metadata": {},
   "outputs": [
    {
     "name": "stdout",
     "output_type": "stream",
     "text": [
      "<class 'pandas.core.frame.DataFrame'>\n",
      "RangeIndex: 891 entries, 0 to 890\n",
      "Data columns (total 12 columns):\n",
      "PassengerId    891 non-null int64\n",
      "Survived       891 non-null int64\n",
      "Pclass         891 non-null int64\n",
      "Name           891 non-null object\n",
      "Sex            891 non-null object\n",
      "Age            714 non-null float64\n",
      "SibSp          891 non-null int64\n",
      "Parch          891 non-null int64\n",
      "Ticket         891 non-null object\n",
      "Fare           891 non-null float64\n",
      "Cabin          204 non-null object\n",
      "Embarked       889 non-null object\n",
      "dtypes: float64(2), int64(5), object(5)\n",
      "memory usage: 83.7+ KB\n",
      "None\n"
     ]
    }
   ],
   "source": [
    "train = pd.read_csv(\"titanic.csv\")\n",
    "print(train.info())"
   ]
  },
  {
   "cell_type": "code",
   "execution_count": 5,
   "metadata": {},
   "outputs": [
    {
     "name": "stdout",
     "output_type": "stream",
     "text": [
      "How many have Survived?\n",
      "0    0.616162\n",
      "1    0.383838\n",
      "Name: Survived, dtype: float64\n"
     ]
    },
    {
     "data": {
      "image/png": "[encoded data removed]",
      "text/plain": [
       "<Figure size 432x288 with 1 Axes>"
      ]
     },
     "metadata": {
      "needs_background": "light"
     },
     "output_type": "display_data"
    }
   ],
   "source": [
    "%matplotlib inline\n",
    "print(\"How many have Survived?\")\n",
    "print(train.Survived.value_counts(normalize=True))\n",
    "count_plt = sns.countplot(train.Survived)\n",
    "count_plt.get_figure().savefig(\"Survived_count.png\")"
   ]
  },
  {
   "cell_type": "code",
   "execution_count": 6,
   "metadata": {},
   "outputs": [
    {
     "name": "stdout",
     "output_type": "stream",
     "text": [
      "Title Count\n",
      "Mr.          517\n",
      "Miss.        182\n",
      "Mrs.         125\n",
      "Master.       40\n",
      "Dr.            7\n",
      "Rev.           6\n",
      "Col.           2\n",
      "Major.         2\n",
      "Mlle.          2\n",
      "Ms.            1\n",
      "Don.           1\n",
      "Lady.          1\n",
      "Jonkheer.      1\n",
      "Sir.           1\n",
      "Capt.          1\n",
      "the            1\n",
      "Mme.           1\n",
      "Name: Name_title, dtype: int64\n",
      "Survived by Title\n",
      "Name_title\n",
      "Capt.        0.000000\n",
      "Col.         0.500000\n",
      "Don.         0.000000\n",
      "Dr.          0.428571\n",
      "Jonkheer.    0.000000\n",
      "Lady.        1.000000\n",
      "Major.       0.500000\n",
      "Master.      0.575000\n",
      "Miss.        0.697802\n",
      "Mlle.        1.000000\n",
      "Mme.         1.000000\n",
      "Mr.          0.156673\n",
      "Mrs.         0.792000\n",
      "Ms.          1.000000\n",
      "Rev.         0.000000\n",
      "Sir.         1.000000\n",
      "the          1.000000\n",
      "Name: Survived, dtype: float64\n"
     ]
    }
   ],
   "source": [
    "train['Name_title'] = train['Name'].apply(lambda x: x.split(',')[1]).apply(lambda x: x.split()[0])\n",
    "print('Title Count')\n",
    "print(train['Name_title'].value_counts())\n",
    "print('Survived by Title')\n",
    "print(train['Survived'].groupby(train['Name_title']).mean())"
   ]
  },
  {
   "cell_type": "code",
   "execution_count": 7,
   "metadata": {},
   "outputs": [
    {
     "name": "stdout",
     "output_type": "stream",
     "text": [
      "Survived by Name Length\n",
      "Name_len\n",
      "(11.999, 19.0]    0.220588\n",
      "(19.0, 23.0]      0.301282\n",
      "(23.0, 27.0]      0.319797\n",
      "(27.0, 32.0]      0.442424\n",
      "(32.0, 82.0]      0.674556\n",
      "Name: Survived, dtype: float64\n"
     ]
    }
   ],
   "source": [
    "train['Name_len'] = train['Name'].apply(lambda x: len(x))\n",
    "print(\"Survived by Name Length\")\n",
    "print(train['Survived'].groupby(pd.qcut(train['Name_len'],5)).mean())"
   ]
  },
  {
   "cell_type": "code",
   "execution_count": 10,
   "metadata": {},
   "outputs": [
    {
     "name": "stdout",
     "output_type": "stream",
     "text": [
      "Survived by Sex\n",
      "Sex\n",
      "female    0.742038\n",
      "male      0.188908\n",
      "Name: Survived, dtype: float64\n"
     ]
    }
   ],
   "source": [
    "print('Survived by Sex')\n",
    "print(train['Survived'].groupby(train['Sex']).mean())"
   ]
  },
  {
   "cell_type": "code",
   "execution_count": 11,
   "metadata": {},
   "outputs": [
    {
     "name": "stdout",
     "output_type": "stream",
     "text": [
      "Survived by Cabin Letter\n",
      "Cabin_Letter\n",
      "A    0.466667\n",
      "B    0.744681\n",
      "C    0.593220\n",
      "D    0.757576\n",
      "E    0.750000\n",
      "F    0.615385\n",
      "G    0.500000\n",
      "T    0.000000\n",
      "n    0.299854\n",
      "Name: Survived, dtype: float64\n"
     ]
    }
   ],
   "source": [
    "train['Cabin_Letter'] = train['Cabin'].apply(lambda x: str(x)[0])\n",
    "print(\"Survived by Cabin Letter\")\n",
    "print(train['Survived'].groupby(train['Cabin_Letter']).mean())"
   ]
  },
  {
   "cell_type": "code",
   "execution_count": 12,
   "metadata": {},
   "outputs": [
    {
     "name": "stdout",
     "output_type": "stream",
     "text": [
      "Survived by Embarked\n",
      "Embarked\n",
      "C    0.553571\n",
      "Q    0.389610\n",
      "S    0.336957\n",
      "Name: Survived, dtype: float64\n"
     ]
    },
    {
     "data": {
      "image/png": "[encoded data removed]",
      "text/plain": [
       "<Figure size 432x288 with 1 Axes>"
      ]
     },
     "metadata": {
      "needs_background": "light"
     },
     "output_type": "display_data"
    }
   ],
   "source": [
    "print(\"Survived by Embarked\")\n",
    "print(train['Survived'].groupby(train['Embarked']).mean())\n",
    "count_plot = sns.countplot(train['Embarked'], hue=train['Pclass'])\n",
    "count_plot.get_figure().savefig(\"Survived_count_by_Embarked.png\")"
   ]
  },
  {
   "cell_type": "markdown",
   "metadata": {},
   "source": [
    "## Data Engineering"
   ]
  },
  {
   "cell_type": "markdown",
   "metadata": {},
   "source": [
    "Since we are using only length of name and we need only title we delete name and get len and title using below function"
   ]
  },
  {
   "cell_type": "code",
   "execution_count": 14,
   "metadata": {},
   "outputs": [],
   "source": [
    "def create_name_feat(train):\n",
    "    for i in [train]:\n",
    "        i['Name_len'] = i['Name'].apply(lambda x: len(x))\n",
    "        i['Name_Title'] = i['Name'].apply(lambda x: x.split(',')[1]).apply(lambda x: x.split()[0])\n",
    "        del i['Name']\n",
    "    return train"
   ]
  },
  {
   "cell_type": "code",
   "execution_count": 15,
   "metadata": {},
   "outputs": [],
   "source": [
    "def age_impute(train):\n",
    "    for i in [train]:\n",
    "        i['Age_Null_Flag'] = i['Age'].apply(lambda x: 1 if pd.isnull(x) else 0)\n",
    "        data = train.groupby(['Name_Title','Pclass'])['Age']\n",
    "        i['Age'] = data.transform(lambda x: x.fillna(x.mean()))\n",
    "    return train"
   ]
  },
  {
   "cell_type": "code",
   "execution_count": 16,
   "metadata": {},
   "outputs": [],
   "source": [
    "def family_size(train):\n",
    "    for i in [train]:\n",
    "        i['Family_Size'] = np.where((i['SibSp']+i['Parch'])==0, 'One',\n",
    "                           np.where((i['SibSp']+i['Parch'])<=3, 'Small','Big'))\n",
    "        del i['SibSp']\n",
    "        del i['Parch']\n",
    "    return train"
   ]
  },
  {
   "cell_type": "code",
   "execution_count": 17,
   "metadata": {},
   "outputs": [],
   "source": [
    "def ticket_grouped(train):\n",
    "    for i in [train]:\n",
    "        i['Ticket_Letr'] = i['Ticket'].apply(lambda x: str(x)[0])\n",
    "        i['Ticket_Letr'] = i['Ticket_Letr'].apply(lambda x: str(x))\n",
    "        i['Ticket_Letr'] = np.where((i['Ticket_Letr']).isin(['1','2','3','S','P','C','A']),\n",
    "                                   i['Ticket_Letr'], np.where((i['Ticket_Ltr']).\n",
    "                                                             isin(['W','4','7','6','L','5','8'])))\n",
    "        i['Ticket_Letr'] = i['Ticket_Letr'].apply(lambda x: len(x))  \n",
    "        del i['Ticket']\n",
    "        return train"
   ]
  },
  {
   "cell_type": "code",
   "execution_count": 18,
   "metadata": {},
   "outputs": [],
   "source": [
    "def cabin(train):\n",
    "    for i in [train]:\n",
    "        i['Cabin_Letter'] = i['Cabin'].apply(lambda x: str(x)[0])\n",
    "        del i['Cabin']\n",
    "    return train"
   ]
  },
  {
   "cell_type": "code",
   "execution_count": 19,
   "metadata": {},
   "outputs": [],
   "source": [
    "def embarked_impute(train):\n",
    "    for i in [train]:\n",
    "        i['Embarked'] = i['Embarked'].fillna('S')\n",
    "    return train"
   ]
  },
  {
   "cell_type": "code",
   "execution_count": null,
   "metadata": {},
   "outputs": [],
   "source": [
    "def dummies(train, columns = ['Pclass','Sex','Embarked','Ticket_Letr','Cabin_Letter','Name_Title','Family_Size']):\n",
    "    \n",
    "    for column in columns:\n",
    "        train[column] = train[column].apply(lambda x: str(x))\n",
    "        good_cols = [column+'_'+i for i in train[column].unique() if i in]\n",
    "    "
   ]
  }
 ],
 "metadata": {
  "kernelspec": {
   "display_name": "Python 3",
   "language": "python",
   "name": "python3"
  },
  "language_info": {
   "codemirror_mode": {
    "name": "ipython",
    "version": 3
   },
   "file_extension": ".py",
   "mimetype": "text/x-python",
   "name": "python",
   "nbconvert_exporter": "python",
   "pygments_lexer": "ipython3",
   "version": "3.7.4"
  }
 },
 "nbformat": 4,
 "nbformat_minor": 2
}
